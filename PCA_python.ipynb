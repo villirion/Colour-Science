# the programm is not completely translate  getCameraSpectralSensitivity work as well as a part of PCACameraSensitivity but not GetEigenvector yet

import scipy.io
import glob ##Unix style pathname pattern expansion
import numpy as np

def getCameraSpectralSensitivity():

    prefix = 'camSpecSensitivity/cmf_'
    suffix = '.mat'
    listFiles = prefix + '*' + suffix
    matdict = []
    camName = []
    
    for file in glob.glob(listFiles):
        mat = scipy.io.loadmat(file)
        matdict.append({k:v for k, v in mat.items() if k[0] != '_'})
        camName.append(file[len(prefix):-len(suffix)])
        
        
    return matdict, camName

def GetEigenvector(refl,retainE=6):
    
    # transpose ligne par ligne et  non le tout
    
    A=refl*np.transpose(refl)

    v, e = np.linalg.eig(A)

    v = np.diag(v)
    v = v[len(v)-(retainE+1):len(v)]
    e = e[:,len(e)-(retainE+1):len(e)]

    v = np.flip(v,1);
    e = np.flip(e,2);

    return (e,v)

def PCACameraSensitivity(numEV=1):
    
    matdict, camName = getCameraSpectralSensitivity()
    
    redCMF = np.array(matdict[0]['r'])
    greenCMF = np.array(matdict[0]['g'])
    blueCMF = np.array(matdict[0]['b'])

    for i in range(1,len(matdict)):
        if i != 16:
            redCMF = np.vstack((redCMF, matdict[i]['r']))
            greenCMF = np.vstack((greenCMF, matdict[i]['g']))
            blueCMF = np.vstack((blueCMF, matdict[i]['b']))
        
    # normalize to each curve
    
    for i in range(0,len(greenCMF)):
        redCMF[i] = redCMF[i]/redCMF[i].max()
        greenCMF[i] = greenCMF[i]/greenCMF[i].max()
        blueCMF[i] = blueCMF[i]/blueCMF[i].max()


    # do PCA on cmf

    
    eRed = GetEigenvector(redCMF,numEV);
    eGreen = GetEigenvector(greenCMF,numEV);
    eBlue = GetEigenvector(blueCMF,numEV);
    
    return eRed,eGreen,eBlue
